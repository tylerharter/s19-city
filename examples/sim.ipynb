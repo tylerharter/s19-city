{
 "cells": [
  {
   "cell_type": "code",
   "execution_count": 1,
   "metadata": {},
   "outputs": [],
   "source": [
    "import copy, random, matplotlib\n",
    "import pandas as pd"
   ]
  },
  {
   "cell_type": "code",
   "execution_count": 2,
   "metadata": {},
   "outputs": [],
   "source": [
    "%matplotlib inline"
   ]
  },
  {
   "cell_type": "code",
   "execution_count": 3,
   "metadata": {},
   "outputs": [],
   "source": [
    "matplotlib.rcParams[\"font.size\"] = 16"
   ]
  },
  {
   "cell_type": "code",
   "execution_count": 4,
   "metadata": {},
   "outputs": [],
   "source": [
    "# what variables are important for us to capture?\n",
    "# how can we use the data to find good values?\n",
    "\n",
    "# this is a VERY simple simulation to use as a\n",
    "# starting point\n",
    "PROMOTION_PROB_PER_EMP = 0.4\n",
    "PROMOTION_AMOUNT = 1.20\n",
    "RETIRE_PROB_PER_EMP = 0.1\n",
    "HIRE_PROB = 0.7\n",
    "START_SALARY = 50000"
   ]
  },
  {
   "cell_type": "code",
   "execution_count": 5,
   "metadata": {},
   "outputs": [],
   "source": [
    "# generate unique fake employee IDs\n",
    "\n",
    "next_id = 1000\n",
    "def gen_emp_id():\n",
    "    global next_id\n",
    "    next_id += 1\n",
    "    return str(next_id)"
   ]
  },
  {
   "cell_type": "code",
   "execution_count": 6,
   "metadata": {},
   "outputs": [
    {
     "data": {
      "text/plain": [
       "{'1001': {'salary': 50000, 'position': 'engineer'},\n",
       " '1002': {'salary': 55000, 'position': 'engineer'},\n",
       " '1003': {'salary': 58000, 'position': 'engineer'}}"
      ]
     },
     "execution_count": 6,
     "metadata": {},
     "output_type": "execute_result"
    }
   ],
   "source": [
    "# let's imagine these are the employees we currently have \n",
    "agency = {\n",
    "    gen_emp_id(): {\"salary\": 50000, \"position\": \"engineer\"},\n",
    "    gen_emp_id(): {\"salary\": 55000, \"position\": \"engineer\"},\n",
    "    gen_emp_id(): {\"salary\": 58000, \"position\": \"engineer\"},\n",
    "}\n",
    "\n",
    "agency"
   ]
  },
  {
   "cell_type": "code",
   "execution_count": 7,
   "metadata": {},
   "outputs": [],
   "source": [
    "# take a dictionary describing current employees,\n",
    "# randomly take actions for a year, then return\n",
    "# new list of employees\n",
    "def simulate_one_year(prior_employees):\n",
    "    employees = copy.deepcopy(prior_employees)\n",
    "    \n",
    "    # simulate promotions\n",
    "    # TODO: different positions will have different promotion patters\n",
    "    for employee in employees.values():\n",
    "        if random.random() < PROMOTION_PROB_PER_EMP:\n",
    "            employee[\"salary\"] *= PROMOTION_AMOUNT\n",
    "            \n",
    "    # simulate retiring\n",
    "    emp_ids = list(employees.keys())\n",
    "    for eid in emp_ids:\n",
    "        if random.random() < RETIRE_PROB_PER_EMP:\n",
    "            employees.pop(eid)\n",
    "            \n",
    "    # simulate hiring\n",
    "    if random.random() < HIRE_PROB:\n",
    "        employees[gen_emp_id()] = {\"salary\": START_SALARY, \"position\": \"engineer\"}\n",
    "        \n",
    "    return employees"
   ]
  },
  {
   "cell_type": "code",
   "execution_count": 8,
   "metadata": {},
   "outputs": [
    {
     "data": {
      "text/plain": [
       "{'1001': {'salary': 50000, 'position': 'engineer'},\n",
       " '1002': {'salary': 55000, 'position': 'engineer'},\n",
       " '1003': {'salary': 58000, 'position': 'engineer'}}"
      ]
     },
     "execution_count": 8,
     "metadata": {},
     "output_type": "execute_result"
    }
   ],
   "source": [
    "# remember this is our current agency\n",
    "agency"
   ]
  },
  {
   "cell_type": "code",
   "execution_count": 9,
   "metadata": {},
   "outputs": [
    {
     "data": {
      "text/plain": [
       "{'1001': {'salary': 50000, 'position': 'engineer'},\n",
       " '1002': {'salary': 66000.0, 'position': 'engineer'},\n",
       " '1003': {'salary': 58000, 'position': 'engineer'}}"
      ]
     },
     "execution_count": 9,
     "metadata": {},
     "output_type": "execute_result"
    }
   ],
   "source": [
    "# what might happen in one year?\n",
    "simulate_one_year(agency)"
   ]
  },
  {
   "cell_type": "code",
   "execution_count": 10,
   "metadata": {},
   "outputs": [
    {
     "data": {
      "text/plain": [
       "{'1001': {'salary': 50000, 'position': 'engineer'},\n",
       " '1002': {'salary': 66000.0, 'position': 'engineer'},\n",
       " '1003': {'salary': 58000, 'position': 'engineer'},\n",
       " '1004': {'salary': 50000, 'position': 'engineer'}}"
      ]
     },
     "execution_count": 10,
     "metadata": {},
     "output_type": "execute_result"
    }
   ],
   "source": [
    "# what else might happen in one year?\n",
    "simulate_one_year(agency)"
   ]
  },
  {
   "cell_type": "code",
   "execution_count": 11,
   "metadata": {},
   "outputs": [
    {
     "data": {
      "text/plain": [
       "{'1001': {'salary': 50000, 'position': 'engineer'},\n",
       " '1002': {'salary': 55000, 'position': 'engineer'},\n",
       " '1003': {'salary': 58000, 'position': 'engineer'},\n",
       " '1005': {'salary': 50000, 'position': 'engineer'}}"
      ]
     },
     "execution_count": 11,
     "metadata": {},
     "output_type": "execute_result"
    }
   ],
   "source": [
    "# what else?\n",
    "simulate_one_year(agency)"
   ]
  },
  {
   "cell_type": "code",
   "execution_count": 12,
   "metadata": {},
   "outputs": [
    {
     "data": {
      "text/plain": [
       "{'1001': {'salary': 60000.0, 'position': 'engineer'},\n",
       " '1002': {'salary': 66000.0, 'position': 'engineer'},\n",
       " '1003': {'salary': 69600.0, 'position': 'engineer'}}"
      ]
     },
     "execution_count": 12,
     "metadata": {},
     "output_type": "execute_result"
    }
   ],
   "source": [
    "# what else?\n",
    "simulate_one_year(agency)"
   ]
  },
  {
   "cell_type": "code",
   "execution_count": 13,
   "metadata": {},
   "outputs": [],
   "source": [
    "# let's simulate N years, returning a list of what the agency looks like over time\n",
    "def sim_years(start, years):\n",
    "    history = [start]\n",
    "    for i in range(years):\n",
    "        history.append(simulate_one_year(history[-1]))\n",
    "    return history"
   ]
  },
  {
   "cell_type": "code",
   "execution_count": 14,
   "metadata": {},
   "outputs": [
    {
     "data": {
      "text/plain": [
       "{'1003': {'salary': 120268.79999999999, 'position': 'engineer'},\n",
       " '1008': {'salary': 124416.0, 'position': 'engineer'},\n",
       " '1009': {'salary': 86400.0, 'position': 'engineer'},\n",
       " '1011': {'salary': 60000.0, 'position': 'engineer'},\n",
       " '1012': {'salary': 60000.0, 'position': 'engineer'},\n",
       " '1013': {'salary': 60000.0, 'position': 'engineer'},\n",
       " '1014': {'salary': 50000, 'position': 'engineer'}}"
      ]
     },
     "execution_count": 14,
     "metadata": {},
     "output_type": "execute_result"
    }
   ],
   "source": [
    "# where might we be after 10 years?\n",
    "history = sim_years(agency, 10)\n",
    "history[-1]"
   ]
  },
  {
   "cell_type": "code",
   "execution_count": 15,
   "metadata": {},
   "outputs": [
    {
     "data": {
      "text/plain": [
       "[{'1001': {'salary': 50000, 'position': 'engineer'},\n",
       "  '1002': {'salary': 55000, 'position': 'engineer'},\n",
       "  '1003': {'salary': 58000, 'position': 'engineer'}},\n",
       " {'1001': {'salary': 60000.0, 'position': 'engineer'},\n",
       "  '1002': {'salary': 55000, 'position': 'engineer'},\n",
       "  '1003': {'salary': 58000, 'position': 'engineer'},\n",
       "  '1006': {'salary': 50000, 'position': 'engineer'}},\n",
       " {'1001': {'salary': 72000.0, 'position': 'engineer'},\n",
       "  '1002': {'salary': 66000.0, 'position': 'engineer'},\n",
       "  '1003': {'salary': 69600.0, 'position': 'engineer'},\n",
       "  '1006': {'salary': 50000, 'position': 'engineer'},\n",
       "  '1007': {'salary': 50000, 'position': 'engineer'}},\n",
       " {'1001': {'salary': 72000.0, 'position': 'engineer'},\n",
       "  '1002': {'salary': 66000.0, 'position': 'engineer'},\n",
       "  '1003': {'salary': 83520.0, 'position': 'engineer'},\n",
       "  '1006': {'salary': 60000.0, 'position': 'engineer'},\n",
       "  '1007': {'salary': 50000, 'position': 'engineer'},\n",
       "  '1008': {'salary': 50000, 'position': 'engineer'}},\n",
       " {'1001': {'salary': 72000.0, 'position': 'engineer'},\n",
       "  '1003': {'salary': 83520.0, 'position': 'engineer'},\n",
       "  '1006': {'salary': 60000.0, 'position': 'engineer'},\n",
       "  '1007': {'salary': 50000, 'position': 'engineer'},\n",
       "  '1008': {'salary': 60000.0, 'position': 'engineer'},\n",
       "  '1009': {'salary': 50000, 'position': 'engineer'}},\n",
       " {'1001': {'salary': 72000.0, 'position': 'engineer'},\n",
       "  '1003': {'salary': 83520.0, 'position': 'engineer'},\n",
       "  '1006': {'salary': 72000.0, 'position': 'engineer'},\n",
       "  '1007': {'salary': 50000, 'position': 'engineer'},\n",
       "  '1008': {'salary': 72000.0, 'position': 'engineer'},\n",
       "  '1009': {'salary': 60000.0, 'position': 'engineer'},\n",
       "  '1010': {'salary': 50000, 'position': 'engineer'}},\n",
       " {'1001': {'salary': 86400.0, 'position': 'engineer'},\n",
       "  '1003': {'salary': 100224.0, 'position': 'engineer'},\n",
       "  '1007': {'salary': 60000.0, 'position': 'engineer'},\n",
       "  '1008': {'salary': 86400.0, 'position': 'engineer'},\n",
       "  '1009': {'salary': 60000.0, 'position': 'engineer'},\n",
       "  '1010': {'salary': 50000, 'position': 'engineer'},\n",
       "  '1011': {'salary': 50000, 'position': 'engineer'}},\n",
       " {'1003': {'salary': 120268.79999999999, 'position': 'engineer'},\n",
       "  '1007': {'salary': 60000.0, 'position': 'engineer'},\n",
       "  '1008': {'salary': 86400.0, 'position': 'engineer'},\n",
       "  '1009': {'salary': 60000.0, 'position': 'engineer'},\n",
       "  '1010': {'salary': 50000, 'position': 'engineer'},\n",
       "  '1011': {'salary': 60000.0, 'position': 'engineer'},\n",
       "  '1012': {'salary': 50000, 'position': 'engineer'}},\n",
       " {'1003': {'salary': 120268.79999999999, 'position': 'engineer'},\n",
       "  '1007': {'salary': 72000.0, 'position': 'engineer'},\n",
       "  '1008': {'salary': 103680.0, 'position': 'engineer'},\n",
       "  '1009': {'salary': 60000.0, 'position': 'engineer'},\n",
       "  '1010': {'salary': 60000.0, 'position': 'engineer'},\n",
       "  '1011': {'salary': 60000.0, 'position': 'engineer'},\n",
       "  '1012': {'salary': 60000.0, 'position': 'engineer'},\n",
       "  '1013': {'salary': 50000, 'position': 'engineer'}},\n",
       " {'1003': {'salary': 120268.79999999999, 'position': 'engineer'},\n",
       "  '1008': {'salary': 124416.0, 'position': 'engineer'},\n",
       "  '1009': {'salary': 72000.0, 'position': 'engineer'},\n",
       "  '1011': {'salary': 60000.0, 'position': 'engineer'},\n",
       "  '1012': {'salary': 60000.0, 'position': 'engineer'},\n",
       "  '1013': {'salary': 50000, 'position': 'engineer'},\n",
       "  '1014': {'salary': 50000, 'position': 'engineer'}},\n",
       " {'1003': {'salary': 120268.79999999999, 'position': 'engineer'},\n",
       "  '1008': {'salary': 124416.0, 'position': 'engineer'},\n",
       "  '1009': {'salary': 86400.0, 'position': 'engineer'},\n",
       "  '1011': {'salary': 60000.0, 'position': 'engineer'},\n",
       "  '1012': {'salary': 60000.0, 'position': 'engineer'},\n",
       "  '1013': {'salary': 60000.0, 'position': 'engineer'},\n",
       "  '1014': {'salary': 50000, 'position': 'engineer'}}]"
      ]
     },
     "execution_count": 15,
     "metadata": {},
     "output_type": "execute_result"
    }
   ],
   "source": [
    "# how did we get there?\n",
    "history"
   ]
  },
  {
   "cell_type": "code",
   "execution_count": 16,
   "metadata": {},
   "outputs": [],
   "source": [
    "# couple functions for analyzing history\n",
    "\n",
    "def employees_each_year(history):\n",
    "    count = []\n",
    "    for snapshot in history:\n",
    "        count.append(len(snapshot))\n",
    "    return pd.Series(count)\n",
    "\n",
    "def salary_each_year(history):\n",
    "    salaries = []\n",
    "    for snapshot in history:\n",
    "        total = 0\n",
    "        for emp in snapshot.values():\n",
    "            total += emp[\"salary\"]\n",
    "        salaries.append(total)\n",
    "    return pd.Series(salaries)"
   ]
  },
  {
   "cell_type": "code",
   "execution_count": 17,
   "metadata": {},
   "outputs": [
    {
     "data": {
      "image/png": "[encoded data removed]",
      "text/plain": [
       "<Figure size 432x288 with 1 Axes>"
      ]
     },
     "metadata": {
      "needs_background": "light"
     },
     "output_type": "display_data"
    }
   ],
   "source": [
    "s = employees_each_year(history)\n",
    "ax = s.plot.line(xlim=0, ylim=0)\n",
    "ax.set_xlabel(\"Years Elapsed\")\n",
    "ax.set_ylabel(\"Number of Employees\")\n",
    "None"
   ]
  },
  {
   "cell_type": "code",
   "execution_count": 18,
   "metadata": {},
   "outputs": [
    {
     "data": {
      "image/png": "[encoded data removed]",
      "text/plain": [
       "<Figure size 432x288 with 1 Axes>"
      ]
     },
     "metadata": {
      "needs_background": "light"
     },
     "output_type": "display_data"
    }
   ],
   "source": [
    "s = salary_each_year(history) / 1000\n",
    "ax = s.plot.line(xlim=0, ylim=0)\n",
    "ax.set_xlabel(\"Years Elapsed\")\n",
    "ax.set_ylabel(\"Salary Spending (Thousands)\")\n",
    "None"
   ]
  },
  {
   "cell_type": "code",
   "execution_count": 19,
   "metadata": {},
   "outputs": [
    {
     "data": {
      "text/plain": [
       "{'1001': {'salary': 50000, 'position': 'engineer'},\n",
       " '1002': {'salary': 55000, 'position': 'engineer'},\n",
       " '1003': {'salary': 58000, 'position': 'engineer'}}"
      ]
     },
     "execution_count": 19,
     "metadata": {},
     "output_type": "execute_result"
    }
   ],
   "source": [
    "# remember the starting state, with our 3 employees\n",
    "agency"
   ]
  },
  {
   "cell_type": "code",
   "execution_count": 20,
   "metadata": {},
   "outputs": [
    {
     "data": {
      "text/plain": [
       "[495708.8,\n",
       " 196400.0,\n",
       " 470944.0,\n",
       " 352268.8,\n",
       " 761383.04,\n",
       " 350080.0,\n",
       " 474128.0,\n",
       " 383948.8,\n",
       " 326000.0,\n",
       " 100000]"
      ]
     },
     "execution_count": 20,
     "metadata": {},
     "output_type": "execute_result"
    }
   ],
   "source": [
    "# let's explore the range of salary outcomes we may have 10 years from now,\n",
    "# doing 1000 sims\n",
    "\n",
    "salaries = []\n",
    "\n",
    "for i in range(1000):\n",
    "    history = sim_years(agency, 10)\n",
    "    total = 0\n",
    "    for employee in history[-1].values():\n",
    "        total += employee[\"salary\"]\n",
    "    salaries.append(total)\n",
    "# let's see a few outcomes:\n",
    "salaries[:10]"
   ]
  },
  {
   "cell_type": "code",
   "execution_count": 21,
   "metadata": {},
   "outputs": [
    {
     "data": {
      "image/png": "[encoded data removed]",
      "text/plain": [
       "<Figure size 432x288 with 1 Axes>"
      ]
     },
     "metadata": {
      "needs_background": "light"
     },
     "output_type": "display_data"
    }
   ],
   "source": [
    "s = pd.Series(salaries) / 1000\n",
    "ax = s.plot.hist(xlim=0, bins=range(0,1001,25))\n",
    "ax.set_xlabel(\"Salary Spending (Thousands)\")\n",
    "None"
   ]
  },
  {
   "cell_type": "code",
   "execution_count": null,
   "metadata": {},
   "outputs": [],
   "source": []
  }
 ],
 "metadata": {
  "kernelspec": {
   "display_name": "Python 3",
   "language": "python",
   "name": "python3"
  },
  "language_info": {
   "codemirror_mode": {
    "name": "ipython",
    "version": 3
   },
   "file_extension": ".py",
   "mimetype": "text/x-python",
   "name": "python",
   "nbconvert_exporter": "python",
   "pygments_lexer": "ipython3",
   "version": "3.7.2"
  }
 },
 "nbformat": 4,
 "nbformat_minor": 2
}
